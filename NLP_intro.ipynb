{
  "nbformat": 4,
  "nbformat_minor": 0,
  "metadata": {
    "colab": {
      "name": "NLP_intro.ipynb",
      "provenance": [],
      "include_colab_link": true
    },
    "kernelspec": {
      "name": "python3",
      "display_name": "Python 3"
    }
  },
  "cells": [
    {
      "cell_type": "markdown",
      "metadata": {
        "id": "view-in-github",
        "colab_type": "text"
      },
      "source": [
        "<a href=\"https://colab.research.google.com/github/ikarus-999/AI-NLP-Study/blob/master/NLP_intro.ipynb\" target=\"_parent\"><img src=\"https://colab.research.google.com/assets/colab-badge.svg\" alt=\"Open In Colab\"/></a>"
      ]
    },
    {
      "cell_type": "markdown",
      "metadata": {
        "id": "9BG7b8YsPK3-",
        "colab_type": "text"
      },
      "source": [
        "# 기본적인 사용법"
      ]
    },
    {
      "cell_type": "code",
      "metadata": {
        "id": "GYg0QwtwPM9z",
        "colab_type": "code",
        "colab": {}
      },
      "source": [
        "import re"
      ],
      "execution_count": 0,
      "outputs": []
    },
    {
      "cell_type": "code",
      "metadata": {
        "id": "bSWfFmOaPQoR",
        "colab_type": "code",
        "colab": {
          "base_uri": "https://localhost:8080/",
          "height": 35
        },
        "outputId": "64469382-440b-4321-fe1c-fadc9dc618cb"
      },
      "source": [
        "text = 'Example word : Dog!!'\n",
        "\n",
        "result = re.search(r'word : \\w\\w\\w', text) \n",
        "#search() : 특정 패턴을 찾을때, \\w : 문자 또는 숫자\n",
        "if result :\n",
        "    print('found', result.group())\n",
        "else:\n",
        "    print('not found')\n",
        "    "
      ],
      "execution_count": 2,
      "outputs": [
        {
          "output_type": "stream",
          "text": [
            "found word : Dog\n"
          ],
          "name": "stdout"
        }
      ]
    },
    {
      "cell_type": "code",
      "metadata": {
        "id": "oxy47j8DPQqd",
        "colab_type": "code",
        "colab": {
          "base_uri": "https://localhost:8080/",
          "height": 35
        },
        "outputId": "255ad324-e796-4aa1-c86c-c3136496742c"
      },
      "source": [
        "result = re.search(r'iii', 'piiig')\n",
        "result.group()\n"
      ],
      "execution_count": 3,
      "outputs": [
        {
          "output_type": "execute_result",
          "data": {
            "text/plain": [
              "'iii'"
            ]
          },
          "metadata": {
            "tags": []
          },
          "execution_count": 3
        }
      ]
    },
    {
      "cell_type": "code",
      "metadata": {
        "id": "z8GDnEfPPQs2",
        "colab_type": "code",
        "colab": {
          "base_uri": "https://localhost:8080/",
          "height": 35
        },
        "outputId": "d092454a-292f-4466-e761-30e88bd64de1"
      },
      "source": [
        "# \\d : 숫자\n",
        "result = re.search(r'\\d\\d\\d', 'p123g')\n",
        "result.group()\n"
      ],
      "execution_count": 4,
      "outputs": [
        {
          "output_type": "execute_result",
          "data": {
            "text/plain": [
              "'123'"
            ]
          },
          "metadata": {
            "tags": []
          },
          "execution_count": 4
        }
      ]
    },
    {
      "cell_type": "code",
      "metadata": {
        "id": "fOOAQc-wPQvM",
        "colab_type": "code",
        "colab": {
          "base_uri": "https://localhost:8080/",
          "height": 35
        },
        "outputId": "02f2a77b-5c6f-4ec1-9c20-06e8b9d826aa"
      },
      "source": [
        "# | : 둘중에 하나\n",
        "result = re.search(r'1|5', '1a2b3c4d5e')\n",
        "result.group()"
      ],
      "execution_count": 6,
      "outputs": [
        {
          "output_type": "execute_result",
          "data": {
            "text/plain": [
              "'1'"
            ]
          },
          "metadata": {
            "tags": []
          },
          "execution_count": 6
        }
      ]
    },
    {
      "cell_type": "code",
      "metadata": {
        "id": "-5h1FZVrPQxf",
        "colab_type": "code",
        "colab": {
          "base_uri": "https://localhost:8080/",
          "height": 35
        },
        "outputId": "4b96311b-4575-4def-f77c-895b67a9c405"
      },
      "source": [
        "# ^ : 가장 앞의 글자가 일치해야 함\n",
        "result = re.search(r'^123', 'ab123')\n",
        "\n",
        "if result:\n",
        "    print('found', result.group())\n",
        "else:\n",
        "    print('not found')\n",
        "    "
      ],
      "execution_count": 10,
      "outputs": [
        {
          "output_type": "stream",
          "text": [
            "not found\n"
          ],
          "name": "stdout"
        }
      ]
    },
    {
      "cell_type": "code",
      "metadata": {
        "id": "KDzPooJdPQzq",
        "colab_type": "code",
        "colab": {
          "base_uri": "https://localhost:8080/",
          "height": 35
        },
        "outputId": "05c9a5f0-88ff-4547-e3c9-e5b9f4803a47"
      },
      "source": [
        "result = re.search(r'^dd', 'dd123')\n",
        "\n",
        "if result:\n",
        "    print('found', result.group())\n",
        "else:\n",
        "    print('not found')"
      ],
      "execution_count": 11,
      "outputs": [
        {
          "output_type": "stream",
          "text": [
            "found dd\n"
          ],
          "name": "stdout"
        }
      ]
    },
    {
      "cell_type": "code",
      "metadata": {
        "id": "NB6fUChBPQ1t",
        "colab_type": "code",
        "colab": {
          "base_uri": "https://localhost:8080/",
          "height": 35
        },
        "outputId": "55786c65-f516-423f-b8c4-515ce86fac43"
      },
      "source": [
        "# $ : 가장 뒤의 글자가 일치해야 함\n",
        "result = re.search(r'lol$', 'trololllol')\n",
        "\n",
        "if result:\n",
        "    print('found', result.group())\n",
        "else:\n",
        "    print('not found')\n",
        "    "
      ],
      "execution_count": 12,
      "outputs": [
        {
          "output_type": "stream",
          "text": [
            "found lol\n"
          ],
          "name": "stdout"
        }
      ]
    },
    {
      "cell_type": "code",
      "metadata": {
        "id": "q9Q5H_RxPQ3s",
        "colab_type": "code",
        "colab": {
          "base_uri": "https://localhost:8080/",
          "height": 35
        },
        "outputId": "39cdff72-6fed-42cb-8cae-4c997077601e"
      },
      "source": [
        "result = re.search(r'troll$', 'trollolloll')\n",
        "\n",
        "if result:\n",
        "    print('found', result.group())\n",
        "else:\n",
        "    print('not found')"
      ],
      "execution_count": 13,
      "outputs": [
        {
          "output_type": "stream",
          "text": [
            "not found\n"
          ],
          "name": "stdout"
        }
      ]
    },
    {
      "cell_type": "code",
      "metadata": {
        "id": "K78uMvGNPQ5v",
        "colab_type": "code",
        "colab": {
          "base_uri": "https://localhost:8080/",
          "height": 89
        },
        "outputId": "5f08d4a9-1509-49f3-9c91-24b2b525a423"
      },
      "source": [
        "# r --> raw string\n",
        "print(r'hi\\nih')\n",
        "print('--' * 10)\n",
        "print('hi\\nhi')"
      ],
      "execution_count": 15,
      "outputs": [
        {
          "output_type": "stream",
          "text": [
            "hi\\nih\n",
            "--------------------\n",
            "hi\n",
            "hi\n"
          ],
          "name": "stdout"
        }
      ]
    },
    {
      "cell_type": "code",
      "metadata": {
        "id": "zAgfbz2BWBb6",
        "colab_type": "code",
        "colab": {
          "base_uri": "https://localhost:8080/",
          "height": 35
        },
        "outputId": "a53ab3c6-26d6-4968-dfdf-ac482e03b12c"
      },
      "source": [
        "# \\를 캐릭터를 처리하려면 \\ 하나를 더 붙임\n",
        "result = re.search(r'\\\\c', 'ab\\c')\n",
        "result.group()"
      ],
      "execution_count": 16,
      "outputs": [
        {
          "output_type": "execute_result",
          "data": {
            "text/plain": [
              "'\\\\c'"
            ]
          },
          "metadata": {
            "tags": []
          },
          "execution_count": 16
        }
      ]
    },
    {
      "cell_type": "code",
      "metadata": {
        "id": "R047e8IuXoRW",
        "colab_type": "code",
        "colab": {
          "base_uri": "https://localhost:8080/",
          "height": 35
        },
        "outputId": "9b048be8-9f54-468f-959b-02338307bee9"
      },
      "source": [
        "# r을 사용하지 않으며 \\\\ 두 개를 붙여야 함\n",
        "result = re.search('\\\\\\c', 'ab\\c')\n",
        "result.group()"
      ],
      "execution_count": 17,
      "outputs": [
        {
          "output_type": "execute_result",
          "data": {
            "text/plain": [
              "'\\\\c'"
            ]
          },
          "metadata": {
            "tags": []
          },
          "execution_count": 17
        }
      ]
    },
    {
      "cell_type": "markdown",
      "metadata": {
        "id": "BY7TSKdRlJJx",
        "colab_type": "text"
      },
      "source": [
        "# 반복패턴"
      ]
    },
    {
      "cell_type": "code",
      "metadata": {
        "id": "ZYXr_8RvlQYV",
        "colab_type": "code",
        "colab": {}
      },
      "source": [
        "# + : 하나 이상 반복\n",
        "result = re.search(r'pi+', 'piiig')\n",
        "result.group()"
      ],
      "execution_count": 0,
      "outputs": []
    },
    {
      "cell_type": "code",
      "metadata": {
        "id": "6VaCsw21lQST",
        "colab_type": "code",
        "colab": {}
      },
      "source": [
        ""
      ],
      "execution_count": 0,
      "outputs": []
    },
    {
      "cell_type": "code",
      "metadata": {
        "id": "ljjxKErzlQLJ",
        "colab_type": "code",
        "colab": {}
      },
      "source": [
        ""
      ],
      "execution_count": 0,
      "outputs": []
    },
    {
      "cell_type": "code",
      "metadata": {
        "id": "tFejrq2qlP00",
        "colab_type": "code",
        "colab": {}
      },
      "source": [
        ""
      ],
      "execution_count": 0,
      "outputs": []
    },
    {
      "cell_type": "code",
      "metadata": {
        "id": "cGa4TatQlLGR",
        "colab_type": "code",
        "colab": {}
      },
      "source": [
        "\n"
      ],
      "execution_count": 0,
      "outputs": []
    }
  ]
}