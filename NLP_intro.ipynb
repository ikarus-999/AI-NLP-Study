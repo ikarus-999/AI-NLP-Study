{
  "nbformat": 4,
  "nbformat_minor": 0,
  "metadata": {
    "colab": {
      "name": "NLP_intro.ipynb",
      "provenance": [],
      "collapsed_sections": [],
      "include_colab_link": true
    },
    "kernelspec": {
      "name": "python3",
      "display_name": "Python 3"
    }
  },
  "cells": [
    {
      "cell_type": "markdown",
      "metadata": {
        "id": "view-in-github",
        "colab_type": "text"
      },
      "source": [
        "<a href=\"https://colab.research.google.com/github/ikarus-999/AI-NLP-Study/blob/master/NLP_intro.ipynb\" target=\"_parent\"><img src=\"https://colab.research.google.com/assets/colab-badge.svg\" alt=\"Open In Colab\"/></a>"
      ]
    },
    {
      "cell_type": "markdown",
      "metadata": {
        "id": "9BG7b8YsPK3-",
        "colab_type": "text"
      },
      "source": [
        "# 기본적인 사용법"
      ]
    },
    {
      "cell_type": "code",
      "metadata": {
        "id": "GYg0QwtwPM9z",
        "colab_type": "code",
        "colab": {}
      },
      "source": [
        "import re"
      ],
      "execution_count": 0,
      "outputs": []
    },
    {
      "cell_type": "code",
      "metadata": {
        "id": "bSWfFmOaPQoR",
        "colab_type": "code",
        "colab": {
          "base_uri": "https://localhost:8080/",
          "height": 35
        },
        "outputId": "64469382-440b-4321-fe1c-fadc9dc618cb"
      },
      "source": [
        "text = 'Example word : Dog!!'\n",
        "\n",
        "result = re.search(r'word : \\w\\w\\w', text) \n",
        "#search() : 특정 패턴을 찾을때, \\w : 문자 또는 숫자\n",
        "if result :\n",
        "    print('found', result.group())\n",
        "else:\n",
        "    print('not found')\n",
        "    "
      ],
      "execution_count": 2,
      "outputs": [
        {
          "output_type": "stream",
          "text": [
            "found word : Dog\n"
          ],
          "name": "stdout"
        }
      ]
    },
    {
      "cell_type": "code",
      "metadata": {
        "id": "oxy47j8DPQqd",
        "colab_type": "code",
        "colab": {
          "base_uri": "https://localhost:8080/",
          "height": 35
        },
        "outputId": "255ad324-e796-4aa1-c86c-c3136496742c"
      },
      "source": [
        "result = re.search(r'iii', 'piiig')\n",
        "result.group()\n"
      ],
      "execution_count": 3,
      "outputs": [
        {
          "output_type": "execute_result",
          "data": {
            "text/plain": [
              "'iii'"
            ]
          },
          "metadata": {
            "tags": []
          },
          "execution_count": 3
        }
      ]
    },
    {
      "cell_type": "code",
      "metadata": {
        "id": "z8GDnEfPPQs2",
        "colab_type": "code",
        "colab": {
          "base_uri": "https://localhost:8080/",
          "height": 35
        },
        "outputId": "d092454a-292f-4466-e761-30e88bd64de1"
      },
      "source": [
        "# \\d : 숫자\n",
        "result = re.search(r'\\d\\d\\d', 'p123g')\n",
        "result.group()\n"
      ],
      "execution_count": 4,
      "outputs": [
        {
          "output_type": "execute_result",
          "data": {
            "text/plain": [
              "'123'"
            ]
          },
          "metadata": {
            "tags": []
          },
          "execution_count": 4
        }
      ]
    },
    {
      "cell_type": "code",
      "metadata": {
        "id": "fOOAQc-wPQvM",
        "colab_type": "code",
        "colab": {
          "base_uri": "https://localhost:8080/",
          "height": 35
        },
        "outputId": "02f2a77b-5c6f-4ec1-9c20-06e8b9d826aa"
      },
      "source": [
        "# | : 둘중에 하나\n",
        "result = re.search(r'1|5', '1a2b3c4d5e')\n",
        "result.group()"
      ],
      "execution_count": 6,
      "outputs": [
        {
          "output_type": "execute_result",
          "data": {
            "text/plain": [
              "'1'"
            ]
          },
          "metadata": {
            "tags": []
          },
          "execution_count": 6
        }
      ]
    },
    {
      "cell_type": "code",
      "metadata": {
        "id": "-5h1FZVrPQxf",
        "colab_type": "code",
        "colab": {
          "base_uri": "https://localhost:8080/",
          "height": 35
        },
        "outputId": "4b96311b-4575-4def-f77c-895b67a9c405"
      },
      "source": [
        "# ^ : 가장 앞의 글자가 일치해야 함\n",
        "result = re.search(r'^123', 'ab123')\n",
        "\n",
        "if result:\n",
        "    print('found', result.group())\n",
        "else:\n",
        "    print('not found')\n",
        "    "
      ],
      "execution_count": 10,
      "outputs": [
        {
          "output_type": "stream",
          "text": [
            "not found\n"
          ],
          "name": "stdout"
        }
      ]
    },
    {
      "cell_type": "code",
      "metadata": {
        "id": "KDzPooJdPQzq",
        "colab_type": "code",
        "colab": {
          "base_uri": "https://localhost:8080/",
          "height": 35
        },
        "outputId": "05c9a5f0-88ff-4547-e3c9-e5b9f4803a47"
      },
      "source": [
        "result = re.search(r'^dd', 'dd123')\n",
        "\n",
        "if result:\n",
        "    print('found', result.group())\n",
        "else:\n",
        "    print('not found')"
      ],
      "execution_count": 11,
      "outputs": [
        {
          "output_type": "stream",
          "text": [
            "found dd\n"
          ],
          "name": "stdout"
        }
      ]
    },
    {
      "cell_type": "code",
      "metadata": {
        "id": "NB6fUChBPQ1t",
        "colab_type": "code",
        "colab": {
          "base_uri": "https://localhost:8080/",
          "height": 35
        },
        "outputId": "55786c65-f516-423f-b8c4-515ce86fac43"
      },
      "source": [
        "# $ : 가장 뒤의 글자가 일치해야 함\n",
        "result = re.search(r'lol$', 'trololllol')\n",
        "\n",
        "if result:\n",
        "    print('found', result.group())\n",
        "else:\n",
        "    print('not found')\n",
        "    "
      ],
      "execution_count": 12,
      "outputs": [
        {
          "output_type": "stream",
          "text": [
            "found lol\n"
          ],
          "name": "stdout"
        }
      ]
    },
    {
      "cell_type": "code",
      "metadata": {
        "id": "q9Q5H_RxPQ3s",
        "colab_type": "code",
        "colab": {
          "base_uri": "https://localhost:8080/",
          "height": 35
        },
        "outputId": "39cdff72-6fed-42cb-8cae-4c997077601e"
      },
      "source": [
        "result = re.search(r'troll$', 'trollolloll')\n",
        "\n",
        "if result:\n",
        "    print('found', result.group())\n",
        "else:\n",
        "    print('not found')"
      ],
      "execution_count": 13,
      "outputs": [
        {
          "output_type": "stream",
          "text": [
            "not found\n"
          ],
          "name": "stdout"
        }
      ]
    },
    {
      "cell_type": "code",
      "metadata": {
        "id": "K78uMvGNPQ5v",
        "colab_type": "code",
        "colab": {
          "base_uri": "https://localhost:8080/",
          "height": 89
        },
        "outputId": "5f08d4a9-1509-49f3-9c91-24b2b525a423"
      },
      "source": [
        "# r --> raw string\n",
        "print(r'hi\\nih')\n",
        "print('--' * 10)\n",
        "print('hi\\nhi')"
      ],
      "execution_count": 15,
      "outputs": [
        {
          "output_type": "stream",
          "text": [
            "hi\\nih\n",
            "--------------------\n",
            "hi\n",
            "hi\n"
          ],
          "name": "stdout"
        }
      ]
    },
    {
      "cell_type": "code",
      "metadata": {
        "id": "zAgfbz2BWBb6",
        "colab_type": "code",
        "colab": {
          "base_uri": "https://localhost:8080/",
          "height": 35
        },
        "outputId": "a53ab3c6-26d6-4968-dfdf-ac482e03b12c"
      },
      "source": [
        "# \\를 캐릭터를 처리하려면 \\ 하나를 더 붙임\n",
        "result = re.search(r'\\\\c', 'ab\\c')\n",
        "result.group()"
      ],
      "execution_count": 16,
      "outputs": [
        {
          "output_type": "execute_result",
          "data": {
            "text/plain": [
              "'\\\\c'"
            ]
          },
          "metadata": {
            "tags": []
          },
          "execution_count": 16
        }
      ]
    },
    {
      "cell_type": "code",
      "metadata": {
        "id": "R047e8IuXoRW",
        "colab_type": "code",
        "colab": {
          "base_uri": "https://localhost:8080/",
          "height": 35
        },
        "outputId": "9b048be8-9f54-468f-959b-02338307bee9"
      },
      "source": [
        "# r을 사용하지 않으며 \\\\ 두 개를 붙여야 함\n",
        "result = re.search('\\\\\\c', 'ab\\c')\n",
        "result.group()"
      ],
      "execution_count": 17,
      "outputs": [
        {
          "output_type": "execute_result",
          "data": {
            "text/plain": [
              "'\\\\c'"
            ]
          },
          "metadata": {
            "tags": []
          },
          "execution_count": 17
        }
      ]
    },
    {
      "cell_type": "markdown",
      "metadata": {
        "id": "BY7TSKdRlJJx",
        "colab_type": "text"
      },
      "source": [
        "# 반복패턴"
      ]
    },
    {
      "cell_type": "code",
      "metadata": {
        "id": "ZYXr_8RvlQYV",
        "colab_type": "code",
        "colab": {}
      },
      "source": [
        "# + : 하나 이상 반복\n",
        "result = re.search(r'pi+', 'piiig')\n",
        "result.group()"
      ],
      "execution_count": 0,
      "outputs": []
    },
    {
      "cell_type": "code",
      "metadata": {
        "id": "6VaCsw21lQST",
        "colab_type": "code",
        "colab": {}
      },
      "source": [
        "# * : 0 또는 하나 이상 반복\n",
        "# \\d : 숫자\n",
        "# \\s : 공백\n",
        "result = re.search(r'\\d\\s*\\d\\s*\\d', 'xx1 2   3xx')\n",
        "result.group()\n"
      ],
      "execution_count": 0,
      "outputs": []
    },
    {
      "cell_type": "code",
      "metadata": {
        "id": "ljjxKErzlQLJ",
        "colab_type": "code",
        "colab": {}
      },
      "source": [
        "result = re.search(r'\\d\\s*\\d\\s*\\d', 'xx12  3xx')\n",
        "result.group()\n"
      ],
      "execution_count": 0,
      "outputs": []
    },
    {
      "cell_type": "code",
      "metadata": {
        "id": "tFejrq2qlP00",
        "colab_type": "code",
        "colab": {}
      },
      "source": [
        "result = re.search(r'\\d\\s*\\d\\s*\\d', 'xx123xx')\n",
        "result.group()\n"
      ],
      "execution_count": 0,
      "outputs": []
    },
    {
      "cell_type": "code",
      "metadata": {
        "id": "cGa4TatQlLGR",
        "colab_type": "code",
        "colab": {}
      },
      "source": [
        "# ? : 0 또는 하나\n",
        "result = re.search(r'ab?c', 'abcdef')\n",
        "result.group()\n"
      ],
      "execution_count": 0,
      "outputs": []
    },
    {
      "cell_type": "code",
      "metadata": {
        "id": "zdinFT3qmW24",
        "colab_type": "code",
        "colab": {}
      },
      "source": [
        "result = re.search(r'ab?c', 'acdef')\n",
        "result.group()\n"
      ],
      "execution_count": 0,
      "outputs": []
    },
    {
      "cell_type": "code",
      "metadata": {
        "id": "bOSIT8WJmW_0",
        "colab_type": "code",
        "colab": {}
      },
      "source": [
        "# {} : 횟수만큼 반복\n",
        "result = re.search(r'bc{2}', 'abccd')\n",
        "result.group()\n"
      ],
      "execution_count": 0,
      "outputs": []
    },
    {
      "cell_type": "code",
      "metadata": {
        "id": "qnGrtD-gmXFh",
        "colab_type": "code",
        "colab": {}
      },
      "source": [
        "result = re.search(r'bc{2,5}', 'abcccd')\n",
        "result.group()\n"
      ],
      "execution_count": 0,
      "outputs": []
    },
    {
      "cell_type": "code",
      "metadata": {
        "id": "-lXPjVpUmXKN",
        "colab_type": "code",
        "colab": {}
      },
      "source": [
        "# 0번 이상\n",
        "result = re.search(r'bc{0,}', 'abd')\n",
        "result.group()\n"
      ],
      "execution_count": 0,
      "outputs": []
    },
    {
      "cell_type": "code",
      "metadata": {
        "id": "rtblc2b5mXNb",
        "colab_type": "code",
        "colab": {}
      },
      "source": [
        "# 1번 이하\n",
        "result = re.search(r'bc{,1}', 'abcd')\n",
        "result.group()\n"
      ],
      "execution_count": 0,
      "outputs": []
    },
    {
      "cell_type": "code",
      "metadata": {
        "id": "-Eka53Tgm7x9",
        "colab_type": "code",
        "colab": {}
      },
      "source": [
        ""
      ],
      "execution_count": 0,
      "outputs": []
    },
    {
      "cell_type": "markdown",
      "metadata": {
        "id": "nYFgaZHfm8Sb",
        "colab_type": "text"
      },
      "source": [
        "# 이메일 예제"
      ]
    },
    {
      "cell_type": "code",
      "metadata": {
        "id": "H1_dfL3bmXQ_",
        "colab_type": "code",
        "colab": {}
      },
      "source": [
        "str = 'purple alice-b@google.com monkey dishwasher'\n",
        "\n",
        "result = re.search(r'\\w+@\\w+', str)\n",
        "result.group()\n"
      ],
      "execution_count": 0,
      "outputs": []
    },
    {
      "cell_type": "code",
      "metadata": {
        "id": "eUcXyFxrmXUM",
        "colab_type": "code",
        "colab": {}
      },
      "source": [
        "# [] : 괄호안에 있는 문자들 중 하나\n",
        "result = re.search(r'[\\w.-]+@[\\w.-]+', str)\n",
        "result.group()"
      ],
      "execution_count": 0,
      "outputs": []
    },
    {
      "cell_type": "markdown",
      "metadata": {
        "id": "skqoTBf0mXXI",
        "colab_type": "text"
      },
      "source": [
        "# 그룹 추출"
      ]
    },
    {
      "cell_type": "code",
      "metadata": {
        "id": "jOZckWblmXZ-",
        "colab_type": "code",
        "colab": {}
      },
      "source": [
        "str = 'purple alice-b@google.com monkey dishwasher'\n",
        "\n",
        "# () : 그룹을 지정\n",
        "result = re.search(r'([\\w.-]+)@([\\w.-]+)', str)\n",
        "print(result.group())  # 전체\n",
        "print(result.group(1)) # 첫 번째 그룹\n",
        "print(result.group(2)) # 두 번째 그룹\n"
      ],
      "execution_count": 0,
      "outputs": []
    },
    {
      "cell_type": "markdown",
      "metadata": {
        "id": "h5SHHkxdmXdl",
        "colab_type": "text"
      },
      "source": [
        "# 문자열의 위치"
      ]
    },
    {
      "cell_type": "code",
      "metadata": {
        "id": "9iHPqJeHnKFz",
        "colab_type": "code",
        "colab": {}
      },
      "source": [
        "result = re.search(r'bc', 'abcde')\n",
        "result.group()\n"
      ],
      "execution_count": 0,
      "outputs": []
    },
    {
      "cell_type": "code",
      "metadata": {
        "id": "nPWg6p1OnKKI",
        "colab_type": "code",
        "colab": {}
      },
      "source": [
        "result = re.search(r'bc', 'abcde')\n",
        "result.start() # 시작 위치\n"
      ],
      "execution_count": 0,
      "outputs": []
    },
    {
      "cell_type": "code",
      "metadata": {
        "id": "tqpwvCHOnKOd",
        "colab_type": "code",
        "colab": {}
      },
      "source": [
        "result = re.search(r'bc', 'abcde')\n",
        "result.end() # 끝 위치\n"
      ],
      "execution_count": 0,
      "outputs": []
    },
    {
      "cell_type": "code",
      "metadata": {
        "id": "SLPJltZ_nKSC",
        "colab_type": "code",
        "colab": {}
      },
      "source": [
        "result = re.search(r'bc', 'abcde')\n",
        "result.span() # 범위\n"
      ],
      "execution_count": 0,
      "outputs": []
    },
    {
      "cell_type": "markdown",
      "metadata": {
        "id": "5nB6DihNnKU8",
        "colab_type": "text"
      },
      "source": [
        "# 일치"
      ]
    },
    {
      "cell_type": "code",
      "metadata": {
        "id": "roPUxCKtnKYi",
        "colab_type": "code",
        "colab": {}
      },
      "source": [
        "# match() : 제일 앞부분부터 일치 판정\n",
        "result = re.match(r'python', 'python123')\n",
        "\n",
        "if result:\n",
        "    print('found', result.group())\n",
        "else:\n",
        "    print('not found')\n",
        "    "
      ],
      "execution_count": 0,
      "outputs": []
    },
    {
      "cell_type": "code",
      "metadata": {
        "id": "QhQQwZ_2nKbH",
        "colab_type": "code",
        "colab": {}
      },
      "source": [
        "result = re.match(r'123', 'python123')\n",
        "\n",
        "if result:\n",
        "    print('found', result.group())\n",
        "else:\n",
        "    print('notfound')\n",
        "    "
      ],
      "execution_count": 0,
      "outputs": []
    },
    {
      "cell_type": "code",
      "metadata": {
        "id": "CN0wLpfFnKeV",
        "colab_type": "code",
        "colab": {}
      },
      "source": [
        "result = re.search(r'123', 'python123')\n",
        "\n",
        "if result:\n",
        "    print('found', result.group())\n",
        "else:\n",
        "    print('not found')\n",
        "  "
      ],
      "execution_count": 0,
      "outputs": []
    },
    {
      "cell_type": "markdown",
      "metadata": {
        "id": "B6oylFp1nzM1",
        "colab_type": "text"
      },
      "source": [
        "# 전체 검색"
      ]
    },
    {
      "cell_type": "code",
      "metadata": {
        "id": "FN1w-HgonzUU",
        "colab_type": "code",
        "colab": {}
      },
      "source": [
        "str = 'purple alice@google.com, blah monkey bob@abc.com blah dishwasher'\n",
        "\n",
        "# search() : 가장 왼쪽의 일치 부분만 구함\n",
        "# findall() : 일치하는 부분을 모두 구함\n",
        "emails = re.findall(r'[\\w.-]+@[\\w.-]+', str)\n",
        "\n",
        "for email in emails:\n",
        "    print(email)\n",
        "    "
      ],
      "execution_count": 0,
      "outputs": []
    },
    {
      "cell_type": "markdown",
      "metadata": {
        "id": "hciwmoiwnzZp",
        "colab_type": "text"
      },
      "source": [
        "# 치환"
      ]
    },
    {
      "cell_type": "code",
      "metadata": {
        "id": "2b6gmKqVnzdo",
        "colab_type": "code",
        "colab": {}
      },
      "source": [
        "str = 'purple alice@google.com, blah monkey bob@abc.com blah dishwasher'\n",
        "\n",
        "# sub() : 문자열을 찾아서 치환\n",
        "# search()와 달리 치환된 문자열을 바로 리턴\n",
        "# \\1 : 그룹1의 문자열\n",
        "# \\2 : 그룹2의 문자열\n",
        "result = re.sub(r'([\\w.-]+)@([\\w.-]+)', r'\\1@yo-yo-dyne.com', str)\n",
        "result\n"
      ],
      "execution_count": 0,
      "outputs": []
    },
    {
      "cell_type": "markdown",
      "metadata": {
        "id": "V6dwi9MVnzg_",
        "colab_type": "text"
      },
      "source": [
        "# 컴파일"
      ]
    },
    {
      "cell_type": "code",
      "metadata": {
        "id": "0VkpW1G4n8lB",
        "colab_type": "code",
        "colab": {}
      },
      "source": [
        "# 패턴을 미리 정의하고 재사용\n",
        "pattern = re.compile(r'[a-z]+')\n",
        "result = pattern.search('python123')\n",
        "result.group()\n"
      ],
      "execution_count": 0,
      "outputs": []
    }
  ]
}